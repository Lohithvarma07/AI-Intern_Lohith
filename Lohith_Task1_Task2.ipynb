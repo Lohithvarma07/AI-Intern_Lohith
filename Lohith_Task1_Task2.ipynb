{
 "cells": [
  {
   "cell_type": "code",
   "execution_count": 2,
   "id": "979d3108-ca06-47c7-ad79-d47fc7324041",
   "metadata": {},
   "outputs": [
    {
     "name": "stdout",
     "output_type": "stream",
     "text": [
      "Loaded dataset with 205 rows and 16 columns.\n",
      "\n"
     ]
    }
   ],
   "source": [
    "#Part A: Task 1:Python and Data  Handling(EDA)\n",
    "#Load the data\n",
    "import pandas as pd\n",
    "import numpy as np\n",
    "import matplotlib.pyplot as plt\n",
    "\n",
    "file_path = \"STUDENTS_RAW_DATA.csv\"\n",
    "df = pd.read_csv(file_path)\n",
    "print(f\"Loaded dataset with {df.shape[0]} rows and {df.shape[1]} columns.\\n\")"
   ]
  },
  {
   "cell_type": "code",
   "execution_count": 3,
   "id": "8e1295ee-f276-4e01-88a5-eb75d46f3a5b",
   "metadata": {},
   "outputs": [
    {
     "name": "stdout",
     "output_type": "stream",
     "text": [
      "Numeric summary:\n",
      "\n"
     ]
    },
    {
     "data": {
      "text/html": [
       "<div>\n",
       "<style scoped>\n",
       "    .dataframe tbody tr th:only-of-type {\n",
       "        vertical-align: middle;\n",
       "    }\n",
       "\n",
       "    .dataframe tbody tr th {\n",
       "        vertical-align: top;\n",
       "    }\n",
       "\n",
       "    .dataframe thead th {\n",
       "        text-align: right;\n",
       "    }\n",
       "</style>\n",
       "<table border=\"1\" class=\"dataframe\">\n",
       "  <thead>\n",
       "    <tr style=\"text-align: right;\">\n",
       "      <th></th>\n",
       "      <th>age</th>\n",
       "      <th>study_hours_per_week</th>\n",
       "      <th>attendance_rate</th>\n",
       "      <th>prior_gpa_10pt</th>\n",
       "      <th>test_score</th>\n",
       "    </tr>\n",
       "  </thead>\n",
       "  <tbody>\n",
       "    <tr>\n",
       "      <th>count</th>\n",
       "      <td>205.000</td>\n",
       "      <td>201.000</td>\n",
       "      <td>205.000</td>\n",
       "      <td>202.000</td>\n",
       "      <td>203.000</td>\n",
       "    </tr>\n",
       "    <tr>\n",
       "      <th>mean</th>\n",
       "      <td>23.205</td>\n",
       "      <td>12.362</td>\n",
       "      <td>74.586</td>\n",
       "      <td>7.299</td>\n",
       "      <td>71.091</td>\n",
       "    </tr>\n",
       "    <tr>\n",
       "      <th>std</th>\n",
       "      <td>12.388</td>\n",
       "      <td>7.019</td>\n",
       "      <td>16.906</td>\n",
       "      <td>1.328</td>\n",
       "      <td>17.879</td>\n",
       "    </tr>\n",
       "    <tr>\n",
       "      <th>min</th>\n",
       "      <td>-1.000</td>\n",
       "      <td>-3.000</td>\n",
       "      <td>45.300</td>\n",
       "      <td>4.020</td>\n",
       "      <td>-5.000</td>\n",
       "    </tr>\n",
       "    <tr>\n",
       "      <th>25%</th>\n",
       "      <td>19.000</td>\n",
       "      <td>8.900</td>\n",
       "      <td>59.800</td>\n",
       "      <td>6.510</td>\n",
       "      <td>60.000</td>\n",
       "    </tr>\n",
       "    <tr>\n",
       "      <th>50%</th>\n",
       "      <td>22.000</td>\n",
       "      <td>11.900</td>\n",
       "      <td>74.900</td>\n",
       "      <td>7.195</td>\n",
       "      <td>71.000</td>\n",
       "    </tr>\n",
       "    <tr>\n",
       "      <th>75%</th>\n",
       "      <td>24.000</td>\n",
       "      <td>15.300</td>\n",
       "      <td>89.500</td>\n",
       "      <td>7.958</td>\n",
       "      <td>81.150</td>\n",
       "    </tr>\n",
       "    <tr>\n",
       "      <th>max</th>\n",
       "      <td>120.000</td>\n",
       "      <td>60.000</td>\n",
       "      <td>104.400</td>\n",
       "      <td>11.500</td>\n",
       "      <td>133.000</td>\n",
       "    </tr>\n",
       "  </tbody>\n",
       "</table>\n",
       "</div>"
      ],
      "text/plain": [
       "           age  study_hours_per_week  attendance_rate  prior_gpa_10pt  \\\n",
       "count  205.000               201.000          205.000         202.000   \n",
       "mean    23.205                12.362           74.586           7.299   \n",
       "std     12.388                 7.019           16.906           1.328   \n",
       "min     -1.000                -3.000           45.300           4.020   \n",
       "25%     19.000                 8.900           59.800           6.510   \n",
       "50%     22.000                11.900           74.900           7.195   \n",
       "75%     24.000                15.300           89.500           7.958   \n",
       "max    120.000                60.000          104.400          11.500   \n",
       "\n",
       "       test_score  \n",
       "count     203.000  \n",
       "mean       71.091  \n",
       "std        17.879  \n",
       "min        -5.000  \n",
       "25%        60.000  \n",
       "50%        71.000  \n",
       "75%        81.150  \n",
       "max       133.000  "
      ]
     },
     "metadata": {},
     "output_type": "display_data"
    },
    {
     "name": "stdout",
     "output_type": "stream",
     "text": [
      "\n",
      "Categorical summary:\n",
      "\n"
     ]
    },
    {
     "data": {
      "text/html": [
       "<div>\n",
       "<style scoped>\n",
       "    .dataframe tbody tr th:only-of-type {\n",
       "        vertical-align: middle;\n",
       "    }\n",
       "\n",
       "    .dataframe tbody tr th {\n",
       "        vertical-align: top;\n",
       "    }\n",
       "\n",
       "    .dataframe thead th {\n",
       "        text-align: right;\n",
       "    }\n",
       "</style>\n",
       "<table border=\"1\" class=\"dataframe\">\n",
       "  <thead>\n",
       "    <tr style=\"text-align: right;\">\n",
       "      <th></th>\n",
       "      <th>count</th>\n",
       "      <th>unique</th>\n",
       "      <th>top</th>\n",
       "      <th>freq</th>\n",
       "    </tr>\n",
       "  </thead>\n",
       "  <tbody>\n",
       "    <tr>\n",
       "      <th>student_id</th>\n",
       "      <td>205</td>\n",
       "      <td>200</td>\n",
       "      <td>S0005</td>\n",
       "      <td>2</td>\n",
       "    </tr>\n",
       "    <tr>\n",
       "      <th>gender</th>\n",
       "      <td>201</td>\n",
       "      <td>9</td>\n",
       "      <td>Female</td>\n",
       "      <td>32</td>\n",
       "    </tr>\n",
       "    <tr>\n",
       "      <th>city</th>\n",
       "      <td>201</td>\n",
       "      <td>24</td>\n",
       "      <td>Mumbai</td>\n",
       "      <td>21</td>\n",
       "    </tr>\n",
       "    <tr>\n",
       "      <th>course_stream</th>\n",
       "      <td>161</td>\n",
       "      <td>8</td>\n",
       "      <td>MCA</td>\n",
       "      <td>27</td>\n",
       "    </tr>\n",
       "    <tr>\n",
       "      <th>has_internet</th>\n",
       "      <td>201</td>\n",
       "      <td>7</td>\n",
       "      <td>Y</td>\n",
       "      <td>35</td>\n",
       "    </tr>\n",
       "    <tr>\n",
       "      <th>device_type</th>\n",
       "      <td>171</td>\n",
       "      <td>5</td>\n",
       "      <td>Mobile</td>\n",
       "      <td>45</td>\n",
       "    </tr>\n",
       "    <tr>\n",
       "      <th>parental_education</th>\n",
       "      <td>159</td>\n",
       "      <td>5</td>\n",
       "      <td>Postgrad</td>\n",
       "      <td>38</td>\n",
       "    </tr>\n",
       "    <tr>\n",
       "      <th>admission_date</th>\n",
       "      <td>205</td>\n",
       "      <td>195</td>\n",
       "      <td>May 01, 2025</td>\n",
       "      <td>3</td>\n",
       "    </tr>\n",
       "    <tr>\n",
       "      <th>fee_paid_inr</th>\n",
       "      <td>198</td>\n",
       "      <td>193</td>\n",
       "      <td>62772</td>\n",
       "      <td>2</td>\n",
       "    </tr>\n",
       "    <tr>\n",
       "      <th>scholarship</th>\n",
       "      <td>154</td>\n",
       "      <td>3</td>\n",
       "      <td>Partial</td>\n",
       "      <td>56</td>\n",
       "    </tr>\n",
       "    <tr>\n",
       "      <th>comments</th>\n",
       "      <td>166</td>\n",
       "      <td>6</td>\n",
       "      <td>Transferred from another program</td>\n",
       "      <td>33</td>\n",
       "    </tr>\n",
       "  </tbody>\n",
       "</table>\n",
       "</div>"
      ],
      "text/plain": [
       "                   count unique                               top freq\n",
       "student_id           205    200                             S0005    2\n",
       "gender               201      9                            Female   32\n",
       "city                 201     24                            Mumbai   21\n",
       "course_stream        161      8                               MCA   27\n",
       "has_internet         201      7                                 Y   35\n",
       "device_type          171      5                            Mobile   45\n",
       "parental_education   159      5                          Postgrad   38\n",
       "admission_date       205    195                      May 01, 2025    3\n",
       "fee_paid_inr         198    193                             62772    2\n",
       "scholarship          154      3                           Partial   56\n",
       "comments             166      6  Transferred from another program   33"
      ]
     },
     "metadata": {},
     "output_type": "display_data"
    }
   ],
   "source": [
    "#Quick numeric & categorical summary\n",
    "print(\"Numeric summary:\\n\")\n",
    "display(df.describe(include=[np.number]).round(3))\n",
    "print(\"\\nCategorical summary:\\n\")\n",
    "display(df.describe(include=['object']).T)"
   ]
  },
  {
   "cell_type": "code",
   "execution_count": 4,
   "id": "4d5262cc-592e-4b6d-ac58-7e6553658ba9",
   "metadata": {},
   "outputs": [
    {
     "name": "stdout",
     "output_type": "stream",
     "text": [
      "Top missingness (count, %):\n"
     ]
    },
    {
     "data": {
      "text/html": [
       "<div>\n",
       "<style scoped>\n",
       "    .dataframe tbody tr th:only-of-type {\n",
       "        vertical-align: middle;\n",
       "    }\n",
       "\n",
       "    .dataframe tbody tr th {\n",
       "        vertical-align: top;\n",
       "    }\n",
       "\n",
       "    .dataframe thead th {\n",
       "        text-align: right;\n",
       "    }\n",
       "</style>\n",
       "<table border=\"1\" class=\"dataframe\">\n",
       "  <thead>\n",
       "    <tr style=\"text-align: right;\">\n",
       "      <th></th>\n",
       "      <th>missing_count</th>\n",
       "      <th>missing_pct</th>\n",
       "    </tr>\n",
       "  </thead>\n",
       "  <tbody>\n",
       "    <tr>\n",
       "      <th>scholarship</th>\n",
       "      <td>51</td>\n",
       "      <td>24.88</td>\n",
       "    </tr>\n",
       "    <tr>\n",
       "      <th>parental_education</th>\n",
       "      <td>46</td>\n",
       "      <td>22.44</td>\n",
       "    </tr>\n",
       "    <tr>\n",
       "      <th>course_stream</th>\n",
       "      <td>44</td>\n",
       "      <td>21.46</td>\n",
       "    </tr>\n",
       "    <tr>\n",
       "      <th>comments</th>\n",
       "      <td>39</td>\n",
       "      <td>19.02</td>\n",
       "    </tr>\n",
       "    <tr>\n",
       "      <th>device_type</th>\n",
       "      <td>34</td>\n",
       "      <td>16.59</td>\n",
       "    </tr>\n",
       "    <tr>\n",
       "      <th>fee_paid_inr</th>\n",
       "      <td>7</td>\n",
       "      <td>3.41</td>\n",
       "    </tr>\n",
       "    <tr>\n",
       "      <th>study_hours_per_week</th>\n",
       "      <td>4</td>\n",
       "      <td>1.95</td>\n",
       "    </tr>\n",
       "    <tr>\n",
       "      <th>city</th>\n",
       "      <td>4</td>\n",
       "      <td>1.95</td>\n",
       "    </tr>\n",
       "    <tr>\n",
       "      <th>gender</th>\n",
       "      <td>4</td>\n",
       "      <td>1.95</td>\n",
       "    </tr>\n",
       "    <tr>\n",
       "      <th>has_internet</th>\n",
       "      <td>4</td>\n",
       "      <td>1.95</td>\n",
       "    </tr>\n",
       "    <tr>\n",
       "      <th>prior_gpa_10pt</th>\n",
       "      <td>3</td>\n",
       "      <td>1.46</td>\n",
       "    </tr>\n",
       "    <tr>\n",
       "      <th>test_score</th>\n",
       "      <td>2</td>\n",
       "      <td>0.98</td>\n",
       "    </tr>\n",
       "    <tr>\n",
       "      <th>attendance_rate</th>\n",
       "      <td>0</td>\n",
       "      <td>0.00</td>\n",
       "    </tr>\n",
       "    <tr>\n",
       "      <th>student_id</th>\n",
       "      <td>0</td>\n",
       "      <td>0.00</td>\n",
       "    </tr>\n",
       "    <tr>\n",
       "      <th>age</th>\n",
       "      <td>0</td>\n",
       "      <td>0.00</td>\n",
       "    </tr>\n",
       "  </tbody>\n",
       "</table>\n",
       "</div>"
      ],
      "text/plain": [
       "                      missing_count  missing_pct\n",
       "scholarship                      51        24.88\n",
       "parental_education               46        22.44\n",
       "course_stream                    44        21.46\n",
       "comments                         39        19.02\n",
       "device_type                      34        16.59\n",
       "fee_paid_inr                      7         3.41\n",
       "study_hours_per_week              4         1.95\n",
       "city                              4         1.95\n",
       "gender                            4         1.95\n",
       "has_internet                      4         1.95\n",
       "prior_gpa_10pt                    3         1.46\n",
       "test_score                        2         0.98\n",
       "attendance_rate                   0         0.00\n",
       "student_id                        0         0.00\n",
       "age                               0         0.00"
      ]
     },
     "metadata": {},
     "output_type": "display_data"
    },
    {
     "name": "stdout",
     "output_type": "stream",
     "text": [
      "Column uniqueness (top 15):\n"
     ]
    },
    {
     "data": {
      "text/plain": [
       "student_id              200\n",
       "admission_date          195\n",
       "fee_paid_inr            193\n",
       "attendance_rate         177\n",
       "test_score              163\n",
       "prior_gpa_10pt          146\n",
       "study_hours_per_week    125\n",
       "city                     24\n",
       "age                      19\n",
       "gender                    9\n",
       "course_stream             8\n",
       "has_internet              7\n",
       "comments                  6\n",
       "device_type               5\n",
       "parental_education        5\n",
       "dtype: int64"
      ]
     },
     "metadata": {},
     "output_type": "display_data"
    }
   ],
   "source": [
    "#Missingness and uniqueness\n",
    "missing_count = df.isnull().sum().sort_values(ascending=False)\n",
    "missing_pct = (df.isnull().mean() * 100).sort_values(ascending=False).round(2)\n",
    "unique_counts = df.nunique().sort_values(ascending=False)\n",
    "\n",
    "missing_table = pd.concat([missing_count, missing_pct], axis=1)\n",
    "missing_table.columns = [\"missing_count\", \"missing_pct\"]\n",
    "print(\"Top missingness (count, %):\")\n",
    "display(missing_table.head(15))\n",
    "\n",
    "print(\"Column uniqueness (top 15):\")\n",
    "display(unique_counts.head(15))"
   ]
  },
  {
   "cell_type": "code",
   "execution_count": 5,
   "id": "c83242bc-9f61-4d81-aece-77554bf2447f",
   "metadata": {},
   "outputs": [
    {
     "name": "stdout",
     "output_type": "stream",
     "text": [
      "Check student_id uniqueness:  200 \n",
      "\n"
     ]
    }
   ],
   "source": [
    "#Columns like 'scholarship', 'parental_education', 'course_stream' have notable missingness.\n",
    "print(\"Check student_id uniqueness: \", df['student_id'].nunique() if 'student_id' in df.columns else \"no student_id column\", \"\\n\")"
   ]
  },
  {
   "cell_type": "code",
   "execution_count": 6,
   "id": "ed241e0a-58b7-4e3e-bf8e-9644c536b996",
   "metadata": {},
   "outputs": [
    {
     "name": "stdout",
     "output_type": "stream",
     "text": [
      "Value counts for selected categorical columns (showing top values):\n",
      "\n",
      "--- gender (top 10) ---\n"
     ]
    },
    {
     "data": {
      "text/plain": [
       "gender\n",
       "Female               32\n",
       "M                    30\n",
       "                     26\n",
       "male                 21\n",
       "F                    20\n",
       "FEMALE               19\n",
       "Male                 19\n",
       "Prefer not to say    17\n",
       "Other                17\n",
       "NaN                   4\n",
       "Name: count, dtype: int64"
      ]
     },
     "metadata": {},
     "output_type": "display_data"
    },
    {
     "name": "stdout",
     "output_type": "stream",
     "text": [
      "--- city (top 10) ---\n"
     ]
    },
    {
     "data": {
      "text/plain": [
       "city\n",
       "Mumbai        21\n",
       "Remote        16\n",
       "Bengaluru     15\n",
       "Pune          12\n",
       "Chennai       12\n",
       "Kolkata       11\n",
       "chennai       11\n",
       "kolkata       10\n",
       "hyderabad     10\n",
       "Hyderabad      9\n",
       "Name: count, dtype: int64"
      ]
     },
     "metadata": {},
     "output_type": "display_data"
    },
    {
     "name": "stdout",
     "output_type": "stream",
     "text": [
      "--- course_stream (top 10) ---\n"
     ]
    },
    {
     "data": {
      "text/plain": [
       "course_stream\n",
       "NaN    44\n",
       "MCA    27\n",
       "BSc    27\n",
       "EE     25\n",
       "BBA    19\n",
       "ME     19\n",
       "CS     18\n",
       "ECE    14\n",
       "MBA    12\n",
       "Name: count, dtype: int64"
      ]
     },
     "metadata": {},
     "output_type": "display_data"
    },
    {
     "name": "stdout",
     "output_type": "stream",
     "text": [
      "--- has_internet (top 10) ---\n"
     ]
    },
    {
     "data": {
      "text/plain": [
       "has_internet\n",
       "Y          35\n",
       "N          32\n",
       "No         30\n",
       "yes        30\n",
       "no         27\n",
       "Yes        24\n",
       "Unknown    23\n",
       "NaN         4\n",
       "Name: count, dtype: int64"
      ]
     },
     "metadata": {},
     "output_type": "display_data"
    },
    {
     "name": "stdout",
     "output_type": "stream",
     "text": [
      "--- device_type (top 10) ---\n"
     ]
    },
    {
     "data": {
      "text/plain": [
       "device_type\n",
       "Mobile     45\n",
       "Tablet     37\n",
       "NaN        34\n",
       "laptop     32\n",
       "Laptop     30\n",
       "Desktop    27\n",
       "Name: count, dtype: int64"
      ]
     },
     "metadata": {},
     "output_type": "display_data"
    },
    {
     "name": "stdout",
     "output_type": "stream",
     "text": [
      "--- scholarship (top 10) ---\n"
     ]
    },
    {
     "data": {
      "text/plain": [
       "scholarship\n",
       "Partial    56\n",
       "Yes        51\n",
       "NaN        51\n",
       "No         47\n",
       "Name: count, dtype: int64"
      ]
     },
     "metadata": {},
     "output_type": "display_data"
    }
   ],
   "source": [
    "#Value counts for key categorical fields\n",
    "keys = ['gender', 'city', 'course_stream', 'has_internet', 'device_type', 'scholarship']\n",
    "print(\"Value counts for selected categorical columns (showing top values):\\n\")\n",
    "for k in keys:\n",
    "    if k in df.columns:\n",
    "        print(f\"--- {k} (top 10) ---\")\n",
    "        display(df[k].value_counts(dropna=False).head(10))\n",
    "    else:\n",
    "        print(f\"Column '{k}' not found in dataset.\")"
   ]
  },
  {
   "cell_type": "code",
   "execution_count": 7,
   "id": "00d0fa21-4d8e-4401-8866-cd857d0a7154",
   "metadata": {},
   "outputs": [
    {
     "data": {
      "image/png": "[encoded data removed]",
      "text/plain": [
       "<Figure size 1000x400 with 1 Axes>"
      ]
     },
     "metadata": {},
     "output_type": "display_data"
    },
    {
     "name": "stdout",
     "output_type": "stream",
     "text": [
      "Interpretation: Distribution across streams — some streams dominate (e.g., MCA, BSc).\n"
     ]
    }
   ],
   "source": [
    "# Plot A: Course stream counts (bar)\n",
    "plt.style.use('default')\n",
    "if 'course_stream' in df.columns:\n",
    "    plt.figure(figsize=(10,4))\n",
    "    df['course_stream'].value_counts().head(12).plot(kind='bar', edgecolor='k')\n",
    "    plt.title('Top Course Streams')\n",
    "    plt.xlabel('course_stream')\n",
    "    plt.ylabel('count')\n",
    "    plt.tight_layout()\n",
    "    plt.show()\n",
    "    print(\"Interpretation: Distribution across streams — some streams dominate (e.g., MCA, BSc).\")"
   ]
  },
  {
   "cell_type": "code",
   "execution_count": 8,
   "id": "de0e6c1a-13bb-45ee-a085-24d58feba924",
   "metadata": {},
   "outputs": [
    {
     "data": {
      "image/png": "[encoded data removed]",
      "text/plain": [
       "<Figure size 600x300 with 1 Axes>"
      ]
     },
     "metadata": {},
     "output_type": "display_data"
    },
    {
     "name": "stdout",
     "output_type": "stream",
     "text": [
      "Interpretation: Many variants for yes/no — needs normalization before analysis.\n",
      "\n"
     ]
    }
   ],
   "source": [
    "# Plot B: Internet access (clean raw counts)\n",
    "if 'has_internet' in df.columns:\n",
    "    plt.figure(figsize=(6,3))\n",
    "    df['has_internet'].value_counts().head(8).plot(kind='bar', edgecolor='k')\n",
    "    plt.title('has_internet (raw values)')\n",
    "    plt.xlabel('has_internet')\n",
    "    plt.ylabel('count')\n",
    "    plt.tight_layout()\n",
    "    plt.show()\n",
    "    print(\"Interpretation: Many variants for yes/no — needs normalization before analysis.\\n\")"
   ]
  },
  {
   "cell_type": "code",
   "execution_count": 9,
   "id": "04f359da-a63d-46d7-9320-744988e0d88a",
   "metadata": {},
   "outputs": [
    {
     "name": "stdout",
     "output_type": "stream",
     "text": [
      "\n",
      "Short EDA Summary\n",
      "\n",
      "Dataset has **205 rows × 16 columns.  \n",
      "\n",
      "1)Numeric columns (age, study_hours_per_week, prior_gpa_10pt, test_score, attendance_rate)  \n",
      "  show generally reasonable ranges, but there are some anomalies (e.g., negative study hours, test scores above 100).  \n",
      "  These will need fixing during preprocessing.  \n",
      "\n",
      "2)Categorical columns contain inconsistencies:  \n",
      "  - gender has mixed formats (M, Male, FEMALE, female, etc.).  \n",
      "  - city has duplicates due to casing (e.g., Chennai vs chennai).  \n",
      "  - has_internet mixes variants (Yes/No in different spellings, plus \"Unknown\").  \n",
      "  - device_type mixes casing (Laptop vs laptop) and has \"None\".  \n",
      "  - scholarship has missing values (~25%) and mixed entries (Yes/No/Partial).  \n",
      "\n",
      "3)Missingness is highest in scholarship, parental_education, and course_stream.  \n",
      "- student_id is not fully unique, indicating possible duplicate records.  \n",
      "\n",
      "4)Visual insights (2 plots):\n",
      "  - Course Stream Distribution: MCA and BSc are the most common streams, while many records are missing course_stream.  \n",
      "  - Internet Access: Responses are inconsistent, but majority of students do report some form of internet access.  \n",
      "\n",
      "Next Steps\n",
      "- Standardize categorical values (gender, internet access, device_type).  \n",
      "- Handle missingness (scholarship, parental_education, course_stream).  \n",
      "- Fix impossible numeric values and outliers.  \n",
      "- Ensure unique student-level records.  \n",
      "\n"
     ]
    }
   ],
   "source": [
    "eda_summary_text = \"\"\"\n",
    "Short EDA Summary\n",
    "\n",
    "Dataset has **205 rows × 16 columns.  \n",
    "\n",
    "1)Numeric columns (age, study_hours_per_week, prior_gpa_10pt, test_score, attendance_rate)  \n",
    "  show generally reasonable ranges, but there are some anomalies (e.g., negative study hours, test scores above 100).  \n",
    "  These will need fixing during preprocessing.  \n",
    "\n",
    "2)Categorical columns contain inconsistencies:  \n",
    "  - gender has mixed formats (M, Male, FEMALE, female, etc.).  \n",
    "  - city has duplicates due to casing (e.g., Chennai vs chennai).  \n",
    "  - has_internet mixes variants (Yes/No in different spellings, plus \"Unknown\").  \n",
    "  - device_type mixes casing (Laptop vs laptop) and has \"None\".  \n",
    "  - scholarship has missing values (~25%) and mixed entries (Yes/No/Partial).  \n",
    "\n",
    "3)Missingness is highest in scholarship, parental_education, and course_stream.  \n",
    "- student_id is not fully unique, indicating possible duplicate records.  \n",
    "\n",
    "4)Visual insights (2 plots):\n",
    "  - Course Stream Distribution: MCA and BSc are the most common streams, while many records are missing course_stream.  \n",
    "  - Internet Access: Responses are inconsistent, but majority of students do report some form of internet access.  \n",
    "\n",
    "Next Steps\n",
    "- Standardize categorical values (gender, internet access, device_type).  \n",
    "- Handle missingness (scholarship, parental_education, course_stream).  \n",
    "- Fix impossible numeric values and outliers.  \n",
    "- Ensure unique student-level records.  \n",
    "\"\"\"\n",
    "\n",
    "print(eda_summary_text)\n"
   ]
  },
  {
   "cell_type": "code",
   "execution_count": 10,
   "id": "a217ddd4-1cda-4abc-903d-e056252f548f",
   "metadata": {},
   "outputs": [
    {
     "name": "stdout",
     "output_type": "stream",
     "text": [
      "Loaded raw data: 205 rows × 16 cols\n"
     ]
    }
   ],
   "source": [
    "#Part B:  Task 2: Data Cleaning & Preprocessing\n",
    "import pandas as pd\n",
    "import numpy as np\n",
    "import re\n",
    "from dateutil import parser\n",
    "from pathlib import Path\n",
    "from sklearn.impute import SimpleImputer\n",
    "\n",
    "RAW = Path(\"STUDENTS_RAW_DATA.csv\")\n",
    "CLEAN_OUT = Path(\"STUDENTS_CLEANED_DATA.csv\")\n",
    "MODEL_OUT = Path(\"STUDENTS_MODEL_DATA.csv\")\n",
    "\n",
    "#Load raw data \n",
    "if not RAW.exists():\n",
    "    raise FileNotFoundError(f\"Raw file not found: {RAW}\")\n",
    "df_raw = pd.read_csv(RAW, dtype=str)\n",
    "print(f\"Loaded raw data: {df_raw.shape[0]} rows × {df_raw.shape[1]} cols\")\n",
    "\n"
   ]
  },
  {
   "cell_type": "code",
   "execution_count": 11,
   "id": "17b66a14-c6d5-4758-a4c1-1f15ebfda56b",
   "metadata": {},
   "outputs": [
    {
     "name": "stdout",
     "output_type": "stream",
     "text": [
      "Placeholders standardized -> NaN\n"
     ]
    }
   ],
   "source": [
    "#Standardize placeholder missing indicators\n",
    "placeholders = [\"\", \" \", \"NA\", \"N/A\", \"na\", \"n/a\", \"None\", \"none\",\n",
    "                \"Unknown\", \"unknown\", \"NULL\", \"null\", \"—\", \"-\", \"#N/A\", \"NaN\", \"nan\"]\n",
    "df = df_raw.copy()\n",
    "for ph in placeholders:\n",
    "    df.replace(ph, np.nan, inplace=True)\n",
    "print(\"Placeholders standardized -> NaN\")"
   ]
  },
  {
   "cell_type": "code",
   "execution_count": 12,
   "id": "bf7aa4bf-7ae2-415a-9812-9196fe1a7f4a",
   "metadata": {},
   "outputs": [
    {
     "name": "stdout",
     "output_type": "stream",
     "text": [
      "Trimmed whitespace\n"
     ]
    }
   ],
   "source": [
    "#Trim whitespace & normalize text columns \n",
    "for c in df.select_dtypes(include=\"object\").columns:\n",
    "    df.loc[df[c].notna(), c] = df.loc[df[c].notna(), c].astype(str).str.strip()\n",
    "print(\"Trimmed whitespace\")\n"
   ]
  },
  {
   "cell_type": "code",
   "execution_count": 13,
   "id": "187753a3-0038-49b5-a8a2-cc35bf687aaf",
   "metadata": {},
   "outputs": [
    {
     "name": "stdout",
     "output_type": "stream",
     "text": [
      "Parsed 'admission_date' into dd-mm-yyyy format (205 valid)\n"
     ]
    }
   ],
   "source": [
    "# Parse and reformat all date\n",
    "from dateutil import parser\n",
    "date_cols = [c for c in df.columns if \"date\" in c.lower()]\n",
    "if date_cols:\n",
    "    for col in date_cols:\n",
    "        parsed = pd.to_datetime(df[col], errors=\"coerce\", dayfirst=True)\n",
    "        #try parsing again with dayfirst=False where still NaT\n",
    "        need_fix = parsed.isna()\n",
    "        if need_fix.any():\n",
    "            parsed2 = pd.to_datetime(df.loc[need_fix, col], errors=\"coerce\", dayfirst=False)\n",
    "            parsed.loc[need_fix] = parsed2\n",
    "        #use dateutil parser for anything still NaT\n",
    "        for idx in parsed[parsed.isna()].index:\n",
    "            val = str(df.at[idx, col]).strip()\n",
    "            if val and val.lower() not in [\"nan\", \"none\"]:\n",
    "                try:\n",
    "                    parsed.at[idx] = parser.parse(val, fuzzy=True)\n",
    "                except Exception:\n",
    "                    pass\n",
    "        # Format to dd-mm-YYYY strings\n",
    "        df[col] = parsed.dt.strftime(\"%d-%m-%Y\")\n",
    "        print(f\"Parsed '{col}' into dd-mm-yyyy format ({df[col].notna().sum()} valid)\")\n",
    "else:\n",
    "    print(\"No date-like columns found\")"
   ]
  },
  {
   "cell_type": "code",
   "execution_count": 14,
   "id": "bf031fdb-18b6-4bf5-82ae-bedc58ed399e",
   "metadata": {},
   "outputs": [
    {
     "name": "stdout",
     "output_type": "stream",
     "text": [
      "Numeric coercion applied (non-numeric -> NaN)\n"
     ]
    }
   ],
   "source": [
    "#Coerce numeric columns (handle currency & garbage) \n",
    "# Example: fee_paid_inr - remove non-numeric chars\n",
    "if \"fee_paid_inr\" in df.columns:\n",
    "    tmp = df[\"fee_paid_inr\"].astype(str).str.replace(r\"[^\\d\\.-]\", \"\", regex=True).replace({\"\": np.nan})\n",
    "    df[\"fee_paid_inr\"] = pd.to_numeric(tmp, errors=\"coerce\")\n",
    "\n",
    "# other numeric candidates\n",
    "num_candidates = [\"age\", \"study_hours_per_week\", \"attendance_rate\", \"prior_gpa_10pt\", \"test_score\"]\n",
    "for c in num_candidates:\n",
    "    if c in df.columns:\n",
    "        df[c] = pd.to_numeric(df[c], errors=\"coerce\")\n",
    "print(\"Numeric coercion applied (non-numeric -> NaN)\")\n"
   ]
  },
  {
   "cell_type": "code",
   "execution_count": 15,
   "id": "f8f02b83-9f07-4182-bc7f-03e740a4dd61",
   "metadata": {},
   "outputs": [
    {
     "name": "stdout",
     "output_type": "stream",
     "text": [
      "Categorical values standardized to readable forms\n"
     ]
    }
   ],
   "source": [
    "#Standardize categorical values \n",
    "# Gender\n",
    "if \"gender\" in df.columns:\n",
    "    def clean_gender(x):\n",
    "        if pd.isna(x): return np.nan\n",
    "        s = str(x).strip().lower()\n",
    "        if s in {\"m\",\"male\",\"man\",\"mr\"}: return \"Male\"\n",
    "        if s in {\"f\",\"female\",\"woman\",\"ms\",\"mrs\"}: return \"Female\"\n",
    "        if s in {\"prefer not to say\",\"prefer not to answer\",\"prefer_not_to_say\"}: return \"Prefer_not_to_say\"\n",
    "        if s in {\"other\",\"non-binary\",\"nb\"}: return \"Other\"\n",
    "        return s.title()\n",
    "    df[\"gender\"] = df[\"gender\"].apply(clean_gender)\n",
    "\n",
    "# has_internet\n",
    "if \"has_internet\" in df.columns:\n",
    "    def clean_net(x):\n",
    "        if pd.isna(x): return np.nan\n",
    "        s = str(x).strip().lower()\n",
    "        if s in {\"y\",\"yes\",\"true\",\"1\",\"available\",\"yep\",\"yeah\"}: return \"Yes\"\n",
    "        if s in {\"n\",\"no\",\"false\",\"0\",\"not available\",\"nope\"}: return \"No\"\n",
    "        return \"Unknown\"\n",
    "    df[\"has_internet\"] = df[\"has_internet\"].apply(clean_net)\n",
    "\n",
    "# device_type\n",
    "if \"device_type\" in df.columns:\n",
    "    def clean_device(x):\n",
    "        if pd.isna(x): return np.nan\n",
    "        s = str(x).strip().lower()\n",
    "        if \"lap\" in s or \"notebook\" in s: return \"Laptop\"\n",
    "        if \"phone\" in s or \"mobile\" in s or \"cell\" in s: return \"Mobile\"\n",
    "        if \"desk\" in s or s in {\"pc\",\"desktop\"}: return \"Desktop\"\n",
    "        if \"tab\" in s: return \"Tablet\"\n",
    "        if s in {\"none\",\"na\",\"n/a\",\"null\"}: return \"None\"\n",
    "        return s.title()\n",
    "    df[\"device_type\"] = df[\"device_type\"].apply(clean_device)\n",
    "\n",
    "# scholarship\n",
    "if \"scholarship\" in df.columns:\n",
    "    def clean_sch(x):\n",
    "        if pd.isna(x): return np.nan\n",
    "        s = str(x).strip().lower()\n",
    "        if s in {\"y\",\"yes\",\"true\"}: return \"Yes\"\n",
    "        if s in {\"n\",\"no\",\"false\"}: return \"No\"\n",
    "        if \"part\" in s: return \"Partial\"\n",
    "        return s.title()\n",
    "    df[\"scholarship\"] = df[\"scholarship\"].apply(clean_sch)\n",
    "\n",
    "# city -> title case\n",
    "if \"city\" in df.columns:\n",
    "    df[\"city\"] = df[\"city\"].where(df[\"city\"].isna(), df[\"city\"].str.title())\n",
    "\n",
    "# simple title-case for some other categorical fields if present\n",
    "for c in [\"course_stream\", \"parental_education\"]:\n",
    "    if c in df.columns:\n",
    "        df[c] = df[c].where(df[c].isna(), df[c].str.title())\n",
    "\n",
    "print(\"Categorical values standardized to readable forms\")\n"
   ]
  },
  {
   "cell_type": "code",
   "execution_count": 16,
   "id": "a545cc1f-2250-4fea-b2f5-ac68e8de2667",
   "metadata": {},
   "outputs": [
    {
     "name": "stdout",
     "output_type": "stream",
     "text": [
      "Exact duplicates removed: 4\n",
      "Done. Final rows: 200\n"
     ]
    }
   ],
   "source": [
    "#Remove exact & student-level duplicates\n",
    "before = len(df)\n",
    "df = df.drop_duplicates(keep=\"first\")\n",
    "print(f\"Exact duplicates removed: {before - len(df)}\")\n",
    "\n",
    "if \"student_id\" in df.columns:\n",
    "    # pick first date-like column if present\n",
    "    date_cols = [c for c in df.columns if \"date\" in c.lower()]\n",
    "    if date_cols:\n",
    "        dcol = date_cols[0]\n",
    "        parsed = pd.to_datetime(df[dcol], errors=\"coerce\", dayfirst=True)  # parse vectorized\n",
    "        keep = []\n",
    "        for sid, idx in df.groupby(\"student_id\").groups.items():\n",
    "            g = parsed.loc[idx]\n",
    "            keep.append(int(g.idxmax()) if g.notna().any() else int(idx[0]))\n",
    "        df = df.loc[keep].sort_values(\"student_id\").reset_index(drop=True)\n",
    "    else:\n",
    "        df = df.drop_duplicates(subset=[\"student_id\"], keep=\"first\").sort_values(\"student_id\").reset_index(drop=True)\n",
    "\n",
    "print(\"Done. Final rows:\", len(df))\n"
   ]
  },
  {
   "cell_type": "code",
   "execution_count": 17,
   "id": "36a31d4d-1402-4591-aa40-6bf59ac21e3a",
   "metadata": {},
   "outputs": [
    {
     "name": "stdout",
     "output_type": "stream",
     "text": [
      "impossible numeric values set to NaN where rules violated\n"
     ]
    }
   ],
   "source": [
    "#Fix impossible values & outliers (business rules)\n",
    "if \"age\" in df.columns:\n",
    "    df[\"age\"] = pd.to_numeric(df[\"age\"], errors=\"coerce\")\n",
    "    df.loc[(df[\"age\"] < 10) | (df[\"age\"] > 100), \"age\"] = np.nan\n",
    "\n",
    "if \"study_hours_per_week\" in df.columns:\n",
    "    df[\"study_hours_per_week\"] = pd.to_numeric(df[\"study_hours_per_week\"], errors=\"coerce\")\n",
    "    df.loc[(df[\"study_hours_per_week\"] < 0) | (df[\"study_hours_per_week\"] > 500), \"study_hours_per_week\"] = np.nan\n",
    "\n",
    "if \"test_score\" in df.columns:\n",
    "    df[\"test_score\"] = pd.to_numeric(df[\"test_score\"], errors=\"coerce\")\n",
    "    df.loc[(df[\"test_score\"] < 0) | (df[\"test_score\"] > 100), \"test_score\"] = np.nan\n",
    "\n",
    "if \"prior_gpa_10pt\" in df.columns:\n",
    "    df[\"prior_gpa_10pt\"] = pd.to_numeric(df[\"prior_gpa_10pt\"], errors=\"coerce\")\n",
    "    df.loc[(df[\"prior_gpa_10pt\"] < 0) | (df[\"prior_gpa_10pt\"] > 10), \"prior_gpa_10pt\"] = np.nan\n",
    "\n",
    "print(\"impossible numeric values set to NaN where rules violated\")\n"
   ]
  },
  {
   "cell_type": "code",
   "execution_count": 22,
   "id": "c27ad213-bc88-49ad-826a-871398b444b9",
   "metadata": {},
   "outputs": [
    {
     "name": "stdout",
     "output_type": "stream",
     "text": [
      "Median imputed numeric columns: ['age', 'study_hours_per_week', 'attendance_rate', 'prior_gpa_10pt', 'test_score', 'fee_paid_inr']\n",
      "Categorical NaNs filled with mode/default\n",
      "Fixed 'comments' column: all empty/missing replaced with 'None'\n"
     ]
    }
   ],
   "source": [
    "#Imputation\n",
    "numeric_for_impute = [c for c in [\"age\",\"study_hours_per_week\",\"attendance_rate\",\"prior_gpa_10pt\",\"test_score\",\"fee_paid_inr\"] if c in df.columns]\n",
    "if numeric_for_impute:\n",
    "    num_imp = SimpleImputer(strategy=\"median\")\n",
    "    df[numeric_for_impute] = num_imp.fit_transform(df[numeric_for_impute])\n",
    "    print(\"Median imputed numeric columns:\", numeric_for_impute)\n",
    "\n",
    "# Categorical mode imputation\n",
    "categorical_for_impute = [c for c in [\"gender\",\"device_type\",\"has_internet\",\"course_stream\",\"scholarship\",\"city\",\"parental_education\"] if c in df.columns]\n",
    "for c in categorical_for_impute:\n",
    "    if df[c].isna().any():\n",
    "        mode_vals = df[c].mode(dropna=True)\n",
    "        fill = mode_vals.iloc[0] if not mode_vals.empty else \"Unknown\"\n",
    "        df[c] = df[c].fillna(fill)\n",
    "print(\"Categorical NaNs filled with mode/default\")\n",
    "\n",
    "\n",
    "#'comments' column's all empty/missing set to \"None\"\n",
    "if \"comments\" in df.columns:\n",
    "    df[\"comments\"] = df[\"comments\"].astype(str).str.strip()\n",
    "    df.loc[df[\"comments\"].isna() | df[\"comments\"].eq(\"\") | df[\"comments\"].isin([\"nan\",\"NaN\",\"none\",\"NONE\"]), \"comments\"] = \"None\"\n",
    "    print(\"Fixed 'comments' column: all empty/missing replaced with 'None'\")\n",
    "else:\n",
    "    print(\"'comments' column not found in df\")\n"
   ]
  },
  {
   "cell_type": "code",
   "execution_count": 19,
   "id": "1ee64e6b-9f87-4465-b6ce-369f3ae9c736",
   "metadata": {},
   "outputs": [
    {
     "name": "stdout",
     "output_type": "stream",
     "text": [
      "One-hot encoded categorical columns for model readiness: ['gender', 'device_type', 'has_internet', 'course_stream', 'scholarship', 'city', 'parental_education']\n"
     ]
    }
   ],
   "source": [
    "#Encoding for model readiness\n",
    "model_df = df.copy()\n",
    "encode_cols = [c for c in categorical_for_impute if c in model_df.columns]\n",
    "if encode_cols:\n",
    "    model_df = pd.get_dummies(model_df, columns=encode_cols, prefix=encode_cols, prefix_sep=\"__\", drop_first=False)\n",
    "    print(\"One-hot encoded categorical columns for model readiness:\", encode_cols)\n",
    "else:\n",
    "    print(\"No categorical columns found to encode\")"
   ]
  },
  {
   "cell_type": "code",
   "execution_count": 20,
   "id": "01385411-3103-4d45-a5b6-45ffb83cf15d",
   "metadata": {},
   "outputs": [
    {
     "name": "stdout",
     "output_type": "stream",
     "text": [
      "Saved cleaned dataset: STUDENTS_CLEANED_DATA.csv (200 × 16)\n",
      "Saved model-ready dataset: STUDENTS_MODEL_DATA.csv (200 × 42)\n"
     ]
    }
   ],
   "source": [
    "\n",
    "# Save outputs\n",
    "df.to_csv(CLEAN_OUT, index=False)\n",
    "model_df.to_csv(MODEL_OUT, index=False)\n",
    "print(f\"Saved cleaned dataset: {CLEAN_OUT} ({df.shape[0]} × {df.shape[1]})\")\n",
    "print(f\"Saved model-ready dataset: {MODEL_OUT} ({model_df.shape[0]} × {model_df.shape[1]})\")\n"
   ]
  },
  {
   "cell_type": "code",
   "execution_count": 23,
   "id": "93d14cbd-9f4b-4aa7-bf24-6685b180e139",
   "metadata": {},
   "outputs": [
    {
     "name": "stdout",
     "output_type": "stream",
     "text": [
      "=== Final Missingness (Top 10 Columns) ===\n",
      "              Column  % Missing\n",
      "          student_id        0.0\n",
      "                 age        0.0\n",
      "              gender        0.0\n",
      "                city        0.0\n",
      "       course_stream        0.0\n",
      "study_hours_per_week        0.0\n",
      "     attendance_rate        0.0\n",
      "      prior_gpa_10pt        0.0\n",
      "        has_internet        0.0\n",
      "         device_type        0.0\n"
     ]
    }
   ],
   "source": [
    "\n",
    "# Calculate missingness \n",
    "missingness = df.isna().mean().sort_values(ascending=False) * 100\n",
    "top10_missing = missingness.head(10).reset_index()\n",
    "top10_missing.columns = [\"Column\", \"% Missing\"]\n",
    "\n",
    "print(\"=== Final Missingness (Top 10 Columns) ===\")\n",
    "print(top10_missing.to_string(index=False))\n",
    "\n",
    "#Note:\n",
    "#Parental_Education and Scholarship were intentionally kept as \"Unknown\" where data was missing.\n",
    "#For reporting, \"Unknown\" is treated as missing, but in the cleaned dataset these are left as explicit categories so that no rows are dropped.\n",
    "\n"
   ]
  },
  {
   "cell_type": "code",
   "execution_count": null,
   "id": "0939cbcf-bbfd-41a5-bc28-98d82e851835",
   "metadata": {},
   "outputs": [],
   "source": []
  }
 ],
 "metadata": {
  "kernelspec": {
   "display_name": "Python 3 (ipykernel)",
   "language": "python",
   "name": "python3"
  },
  "language_info": {
   "codemirror_mode": {
    "name": "ipython",
    "version": 3
   },
   "file_extension": ".py",
   "mimetype": "text/x-python",
   "name": "python",
   "nbconvert_exporter": "python",
   "pygments_lexer": "ipython3",
   "version": "3.13.5"
  }
 },
 "nbformat": 4,
 "nbformat_minor": 5
}
